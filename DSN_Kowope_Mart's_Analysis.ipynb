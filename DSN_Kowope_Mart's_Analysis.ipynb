{
 "cells": [
  {
   "cell_type": "code",
   "execution_count": 1,
   "metadata": {},
   "outputs": [
    {
     "name": "stderr",
     "output_type": "stream",
     "text": [
      "/home/paul/anaconda3/lib/python3.7/site-packages/statsmodels/tools/_testing.py:19: FutureWarning: pandas.util.testing is deprecated. Use the functions in the public API at pandas.testing instead.\n",
      "  import pandas.util.testing as tm\n"
     ]
    }
   ],
   "source": [
    "from IPython.core.interactiveshell import InteractiveShell\n",
    "InteractiveShell.ast_node_interactivity = \"all\"\n",
    "import numpy as np\n",
    "import pandas as pd\n",
    "import matplotlib.pyplot as plt\n",
    "import  seaborn as sns"
   ]
  },
  {
   "cell_type": "code",
   "execution_count": 2,
   "metadata": {},
   "outputs": [],
   "source": [
    "%matplotlib inline\n",
    "pd.set_option('display.max_columns', 100)\n",
    "plt.style.use('fivethirtyeight')\n",
    "plt.rcParams['font.size'] = 10"
   ]
  },
  {
   "cell_type": "code",
   "execution_count": 3,
   "metadata": {},
   "outputs": [],
   "source": [
    "from sklearn.model_selection import StratifiedKFold\n",
    "from sklearn.ensemble import RandomForestClassifier,VotingClassifier\n",
    "from catboost import CatBoostClassifier\n",
    "from lightgbm import LGBMClassifier\n",
    "from sklearn.pipeline import Pipeline\n",
    "from sklearn.preprocessing import MinMaxScaler\n",
    "from sklearn.metrics import roc_auc_score"
   ]
  },
  {
   "cell_type": "code",
   "execution_count": 4,
   "metadata": {},
   "outputs": [],
   "source": [
    "# importing files\n",
    "train_le = pd.read_csv('dataset/hackathon.csv/Train.csv')\n",
    "test_le = pd.read_csv('dataset/hackathon.csv/Test.csv')"
   ]
  },
  {
   "cell_type": "code",
   "execution_count": 5,
   "metadata": {},
   "outputs": [],
   "source": [
    "# dropping col\n",
    "useless_col = ['Applicant_ID']"
   ]
  },
  {
   "cell_type": "code",
   "execution_count": 6,
   "metadata": {},
   "outputs": [],
   "source": [
    "train_le.drop(columns=[i for i in useless_col],inplace=True)\n",
    "test_le.drop(columns=[i for i in useless_col],inplace=True)"
   ]
  },
  {
   "cell_type": "code",
   "execution_count": 7,
   "metadata": {},
   "outputs": [
    {
     "data": {
      "text/html": [
       "<div>\n",
       "<style scoped>\n",
       "    .dataframe tbody tr th:only-of-type {\n",
       "        vertical-align: middle;\n",
       "    }\n",
       "\n",
       "    .dataframe tbody tr th {\n",
       "        vertical-align: top;\n",
       "    }\n",
       "\n",
       "    .dataframe thead th {\n",
       "        text-align: right;\n",
       "    }\n",
       "</style>\n",
       "<table border=\"1\" class=\"dataframe\">\n",
       "  <thead>\n",
       "    <tr style=\"text-align: right;\">\n",
       "      <th></th>\n",
       "      <th>form_field1</th>\n",
       "      <th>form_field2</th>\n",
       "      <th>form_field3</th>\n",
       "      <th>form_field4</th>\n",
       "      <th>form_field5</th>\n",
       "      <th>form_field6</th>\n",
       "      <th>form_field7</th>\n",
       "      <th>form_field8</th>\n",
       "      <th>form_field9</th>\n",
       "      <th>form_field10</th>\n",
       "      <th>form_field11</th>\n",
       "      <th>form_field12</th>\n",
       "      <th>form_field13</th>\n",
       "      <th>form_field14</th>\n",
       "      <th>form_field15</th>\n",
       "      <th>form_field16</th>\n",
       "      <th>form_field17</th>\n",
       "      <th>form_field18</th>\n",
       "      <th>form_field19</th>\n",
       "      <th>form_field20</th>\n",
       "      <th>form_field21</th>\n",
       "      <th>form_field22</th>\n",
       "      <th>form_field23</th>\n",
       "      <th>form_field24</th>\n",
       "      <th>form_field25</th>\n",
       "      <th>form_field26</th>\n",
       "      <th>form_field27</th>\n",
       "      <th>form_field28</th>\n",
       "      <th>form_field29</th>\n",
       "      <th>form_field30</th>\n",
       "      <th>form_field31</th>\n",
       "      <th>form_field32</th>\n",
       "      <th>form_field33</th>\n",
       "      <th>form_field34</th>\n",
       "      <th>form_field35</th>\n",
       "      <th>form_field36</th>\n",
       "      <th>form_field37</th>\n",
       "      <th>form_field38</th>\n",
       "      <th>form_field39</th>\n",
       "      <th>form_field40</th>\n",
       "      <th>form_field41</th>\n",
       "      <th>form_field42</th>\n",
       "      <th>form_field43</th>\n",
       "      <th>form_field44</th>\n",
       "      <th>form_field45</th>\n",
       "      <th>form_field46</th>\n",
       "      <th>form_field47</th>\n",
       "      <th>form_field48</th>\n",
       "      <th>form_field49</th>\n",
       "      <th>form_field50</th>\n",
       "      <th>default_status</th>\n",
       "    </tr>\n",
       "  </thead>\n",
       "  <tbody>\n",
       "    <tr>\n",
       "      <th>0</th>\n",
       "      <td>3436.0</td>\n",
       "      <td>0.28505</td>\n",
       "      <td>1.656</td>\n",
       "      <td>0.0</td>\n",
       "      <td>0.0</td>\n",
       "      <td>0.0</td>\n",
       "      <td>10689720.0</td>\n",
       "      <td>252072.0</td>\n",
       "      <td>4272776.0</td>\n",
       "      <td>11333126.0</td>\n",
       "      <td>4397256.0</td>\n",
       "      <td>2301324.0</td>\n",
       "      <td>7875694.0</td>\n",
       "      <td>96375139</td>\n",
       "      <td>112181765.0</td>\n",
       "      <td>1.0</td>\n",
       "      <td>1.0</td>\n",
       "      <td>1.0</td>\n",
       "      <td>3.0</td>\n",
       "      <td>3.0</td>\n",
       "      <td>134.655</td>\n",
       "      <td>NaN</td>\n",
       "      <td>NaN</td>\n",
       "      <td>134.655</td>\n",
       "      <td>4000.5</td>\n",
       "      <td>17064.0</td>\n",
       "      <td>11376.0</td>\n",
       "      <td>60.0</td>\n",
       "      <td>17064.0</td>\n",
       "      <td>5962.0</td>\n",
       "      <td>NaN</td>\n",
       "      <td>1052.0</td>\n",
       "      <td>8.0</td>\n",
       "      <td>2.0</td>\n",
       "      <td>NaN</td>\n",
       "      <td>12.0</td>\n",
       "      <td>12.0</td>\n",
       "      <td>4.0</td>\n",
       "      <td>0.0</td>\n",
       "      <td>NaN</td>\n",
       "      <td>NaN</td>\n",
       "      <td>0.392854</td>\n",
       "      <td>2.02</td>\n",
       "      <td>0.711632</td>\n",
       "      <td>0.0</td>\n",
       "      <td>0.0</td>\n",
       "      <td>charge</td>\n",
       "      <td>NaN</td>\n",
       "      <td>1.129518</td>\n",
       "      <td>0.044335</td>\n",
       "      <td>no</td>\n",
       "    </tr>\n",
       "  </tbody>\n",
       "</table>\n",
       "</div>"
      ],
      "text/plain": [
       "   form_field1  form_field2  form_field3  form_field4  form_field5  \\\n",
       "0       3436.0      0.28505        1.656          0.0          0.0   \n",
       "\n",
       "   form_field6  form_field7  form_field8  form_field9  form_field10  \\\n",
       "0          0.0   10689720.0     252072.0    4272776.0    11333126.0   \n",
       "\n",
       "   form_field11  form_field12  form_field13  form_field14  form_field15  \\\n",
       "0     4397256.0     2301324.0     7875694.0      96375139   112181765.0   \n",
       "\n",
       "   form_field16  form_field17  form_field18  form_field19  form_field20  \\\n",
       "0           1.0           1.0           1.0           3.0           3.0   \n",
       "\n",
       "   form_field21  form_field22  form_field23  form_field24  form_field25  \\\n",
       "0       134.655           NaN           NaN       134.655        4000.5   \n",
       "\n",
       "   form_field26  form_field27  form_field28  form_field29  form_field30  \\\n",
       "0       17064.0       11376.0          60.0       17064.0        5962.0   \n",
       "\n",
       "   form_field31  form_field32  form_field33  form_field34  form_field35  \\\n",
       "0           NaN        1052.0           8.0           2.0           NaN   \n",
       "\n",
       "   form_field36  form_field37  form_field38  form_field39  form_field40  \\\n",
       "0          12.0          12.0           4.0           0.0           NaN   \n",
       "\n",
       "   form_field41  form_field42  form_field43  form_field44  form_field45  \\\n",
       "0           NaN      0.392854          2.02      0.711632           0.0   \n",
       "\n",
       "   form_field46 form_field47  form_field48  form_field49  form_field50  \\\n",
       "0           0.0       charge           NaN      1.129518      0.044335   \n",
       "\n",
       "  default_status  \n",
       "0             no  "
      ]
     },
     "execution_count": 7,
     "metadata": {},
     "output_type": "execute_result"
    },
    {
     "data": {
      "text/html": [
       "<div>\n",
       "<style scoped>\n",
       "    .dataframe tbody tr th:only-of-type {\n",
       "        vertical-align: middle;\n",
       "    }\n",
       "\n",
       "    .dataframe tbody tr th {\n",
       "        vertical-align: top;\n",
       "    }\n",
       "\n",
       "    .dataframe thead th {\n",
       "        text-align: right;\n",
       "    }\n",
       "</style>\n",
       "<table border=\"1\" class=\"dataframe\">\n",
       "  <thead>\n",
       "    <tr style=\"text-align: right;\">\n",
       "      <th></th>\n",
       "      <th>form_field1</th>\n",
       "      <th>form_field2</th>\n",
       "      <th>form_field3</th>\n",
       "      <th>form_field4</th>\n",
       "      <th>form_field5</th>\n",
       "      <th>form_field6</th>\n",
       "      <th>form_field7</th>\n",
       "      <th>form_field8</th>\n",
       "      <th>form_field9</th>\n",
       "      <th>form_field10</th>\n",
       "      <th>form_field11</th>\n",
       "      <th>form_field12</th>\n",
       "      <th>form_field13</th>\n",
       "      <th>form_field14</th>\n",
       "      <th>form_field15</th>\n",
       "      <th>form_field16</th>\n",
       "      <th>form_field17</th>\n",
       "      <th>form_field18</th>\n",
       "      <th>form_field19</th>\n",
       "      <th>form_field20</th>\n",
       "      <th>form_field21</th>\n",
       "      <th>form_field22</th>\n",
       "      <th>form_field23</th>\n",
       "      <th>form_field24</th>\n",
       "      <th>form_field25</th>\n",
       "      <th>form_field26</th>\n",
       "      <th>form_field27</th>\n",
       "      <th>form_field28</th>\n",
       "      <th>form_field29</th>\n",
       "      <th>form_field30</th>\n",
       "      <th>form_field31</th>\n",
       "      <th>form_field32</th>\n",
       "      <th>form_field33</th>\n",
       "      <th>form_field34</th>\n",
       "      <th>form_field35</th>\n",
       "      <th>form_field36</th>\n",
       "      <th>form_field37</th>\n",
       "      <th>form_field38</th>\n",
       "      <th>form_field39</th>\n",
       "      <th>form_field40</th>\n",
       "      <th>form_field41</th>\n",
       "      <th>form_field42</th>\n",
       "      <th>form_field43</th>\n",
       "      <th>form_field44</th>\n",
       "      <th>form_field45</th>\n",
       "      <th>form_field46</th>\n",
       "      <th>form_field47</th>\n",
       "      <th>form_field48</th>\n",
       "      <th>form_field49</th>\n",
       "      <th>form_field50</th>\n",
       "    </tr>\n",
       "  </thead>\n",
       "  <tbody>\n",
       "    <tr>\n",
       "      <th>0</th>\n",
       "      <td>3236.0</td>\n",
       "      <td>0.34875</td>\n",
       "      <td>10.2006</td>\n",
       "      <td>0.0</td>\n",
       "      <td>0.0</td>\n",
       "      <td>418564.0</td>\n",
       "      <td>418564.0</td>\n",
       "      <td>418564.0</td>\n",
       "      <td>540710.0</td>\n",
       "      <td>0.0</td>\n",
       "      <td>1649749.0</td>\n",
       "      <td>5446.0</td>\n",
       "      <td>0.0</td>\n",
       "      <td>48187375</td>\n",
       "      <td>114686147.0</td>\n",
       "      <td>0.0</td>\n",
       "      <td>0.0</td>\n",
       "      <td>0.0</td>\n",
       "      <td>0.0</td>\n",
       "      <td>0.0</td>\n",
       "      <td>NaN</td>\n",
       "      <td>NaN</td>\n",
       "      <td>NaN</td>\n",
       "      <td>NaN</td>\n",
       "      <td>1086.0</td>\n",
       "      <td>6204.0</td>\n",
       "      <td>2676.0</td>\n",
       "      <td>60.0</td>\n",
       "      <td>14691.0</td>\n",
       "      <td>9794.0</td>\n",
       "      <td>NaN</td>\n",
       "      <td>238.0</td>\n",
       "      <td>1.8334</td>\n",
       "      <td>0.0</td>\n",
       "      <td>NaN</td>\n",
       "      <td>22.0</td>\n",
       "      <td>2.0</td>\n",
       "      <td>14.0</td>\n",
       "      <td>0.0</td>\n",
       "      <td>NaN</td>\n",
       "      <td>NaN</td>\n",
       "      <td>0.825</td>\n",
       "      <td>1.01</td>\n",
       "      <td>0.8</td>\n",
       "      <td>NaN</td>\n",
       "      <td>0.0</td>\n",
       "      <td>charge</td>\n",
       "      <td>NaN</td>\n",
       "      <td>0.0</td>\n",
       "      <td>0.011221</td>\n",
       "    </tr>\n",
       "  </tbody>\n",
       "</table>\n",
       "</div>"
      ],
      "text/plain": [
       "   form_field1  form_field2  form_field3  form_field4  form_field5  \\\n",
       "0       3236.0      0.34875      10.2006          0.0          0.0   \n",
       "\n",
       "   form_field6  form_field7  form_field8  form_field9  form_field10  \\\n",
       "0     418564.0     418564.0     418564.0     540710.0           0.0   \n",
       "\n",
       "   form_field11  form_field12  form_field13  form_field14  form_field15  \\\n",
       "0     1649749.0        5446.0           0.0      48187375   114686147.0   \n",
       "\n",
       "   form_field16  form_field17  form_field18  form_field19  form_field20  \\\n",
       "0           0.0           0.0           0.0           0.0           0.0   \n",
       "\n",
       "   form_field21  form_field22  form_field23  form_field24  form_field25  \\\n",
       "0           NaN           NaN           NaN           NaN        1086.0   \n",
       "\n",
       "   form_field26  form_field27  form_field28  form_field29  form_field30  \\\n",
       "0        6204.0        2676.0          60.0       14691.0        9794.0   \n",
       "\n",
       "   form_field31  form_field32  form_field33  form_field34  form_field35  \\\n",
       "0           NaN         238.0        1.8334           0.0           NaN   \n",
       "\n",
       "   form_field36  form_field37  form_field38  form_field39  form_field40  \\\n",
       "0          22.0           2.0          14.0           0.0           NaN   \n",
       "\n",
       "   form_field41  form_field42  form_field43  form_field44  form_field45  \\\n",
       "0           NaN         0.825          1.01           0.8           NaN   \n",
       "\n",
       "   form_field46 form_field47  form_field48  form_field49  form_field50  \n",
       "0           0.0       charge           NaN           0.0      0.011221  "
      ]
     },
     "execution_count": 7,
     "metadata": {},
     "output_type": "execute_result"
    }
   ],
   "source": [
    "train_le.head(1)\n",
    "test_le.head(1)"
   ]
  },
  {
   "cell_type": "code",
   "execution_count": 8,
   "metadata": {},
   "outputs": [
    {
     "data": {
      "text/plain": [
       "(56000, 51)"
      ]
     },
     "execution_count": 8,
     "metadata": {},
     "output_type": "execute_result"
    },
    {
     "data": {
      "text/plain": [
       "(24000, 50)"
      ]
     },
     "execution_count": 8,
     "metadata": {},
     "output_type": "execute_result"
    }
   ],
   "source": [
    "train_le.shape\n",
    "test_le.shape"
   ]
  },
  {
   "cell_type": "code",
   "execution_count": 9,
   "metadata": {},
   "outputs": [
    {
     "data": {
      "text/html": [
       "<div>\n",
       "<style scoped>\n",
       "    .dataframe tbody tr th:only-of-type {\n",
       "        vertical-align: middle;\n",
       "    }\n",
       "\n",
       "    .dataframe tbody tr th {\n",
       "        vertical-align: top;\n",
       "    }\n",
       "\n",
       "    .dataframe thead th {\n",
       "        text-align: right;\n",
       "    }\n",
       "</style>\n",
       "<table border=\"1\" class=\"dataframe\">\n",
       "  <thead>\n",
       "    <tr style=\"text-align: right;\">\n",
       "      <th></th>\n",
       "      <th>form_field1</th>\n",
       "      <th>form_field2</th>\n",
       "      <th>form_field3</th>\n",
       "      <th>form_field4</th>\n",
       "      <th>form_field5</th>\n",
       "      <th>form_field6</th>\n",
       "      <th>form_field7</th>\n",
       "      <th>form_field8</th>\n",
       "      <th>form_field9</th>\n",
       "      <th>form_field10</th>\n",
       "      <th>form_field11</th>\n",
       "      <th>form_field12</th>\n",
       "      <th>form_field13</th>\n",
       "      <th>form_field14</th>\n",
       "      <th>form_field15</th>\n",
       "      <th>form_field16</th>\n",
       "      <th>form_field17</th>\n",
       "      <th>form_field18</th>\n",
       "      <th>form_field19</th>\n",
       "      <th>form_field20</th>\n",
       "      <th>form_field21</th>\n",
       "      <th>form_field22</th>\n",
       "      <th>form_field23</th>\n",
       "      <th>form_field24</th>\n",
       "      <th>form_field25</th>\n",
       "      <th>form_field26</th>\n",
       "      <th>form_field27</th>\n",
       "      <th>form_field28</th>\n",
       "      <th>form_field29</th>\n",
       "      <th>form_field30</th>\n",
       "      <th>form_field31</th>\n",
       "      <th>form_field32</th>\n",
       "      <th>form_field33</th>\n",
       "      <th>form_field34</th>\n",
       "      <th>form_field35</th>\n",
       "      <th>form_field36</th>\n",
       "      <th>form_field37</th>\n",
       "      <th>form_field38</th>\n",
       "      <th>form_field39</th>\n",
       "      <th>form_field40</th>\n",
       "      <th>form_field41</th>\n",
       "      <th>form_field42</th>\n",
       "      <th>form_field43</th>\n",
       "      <th>form_field44</th>\n",
       "      <th>form_field45</th>\n",
       "      <th>form_field46</th>\n",
       "      <th>form_field48</th>\n",
       "      <th>form_field49</th>\n",
       "      <th>form_field50</th>\n",
       "    </tr>\n",
       "  </thead>\n",
       "  <tbody>\n",
       "    <tr>\n",
       "      <th>count</th>\n",
       "      <td>53471.000000</td>\n",
       "      <td>52156.000000</td>\n",
       "      <td>55645.000000</td>\n",
       "      <td>55645.000000</td>\n",
       "      <td>55645.000000</td>\n",
       "      <td>4.264000e+04</td>\n",
       "      <td>5.083700e+04</td>\n",
       "      <td>4.264000e+04</td>\n",
       "      <td>4.799200e+04</td>\n",
       "      <td>5.564500e+04</td>\n",
       "      <td>2.457900e+04</td>\n",
       "      <td>4.610500e+04</td>\n",
       "      <td>5.011100e+04</td>\n",
       "      <td>5.600000e+04</td>\n",
       "      <td>3.352500e+04</td>\n",
       "      <td>42964.000000</td>\n",
       "      <td>44849.000000</td>\n",
       "      <td>45598.000000</td>\n",
       "      <td>55996.000000</td>\n",
       "      <td>55645.000000</td>\n",
       "      <td>40146.000000</td>\n",
       "      <td>35600.000000</td>\n",
       "      <td>27877.000000</td>\n",
       "      <td>42703.000000</td>\n",
       "      <td>50550.000000</td>\n",
       "      <td>48562.000000</td>\n",
       "      <td>46701.000000</td>\n",
       "      <td>55645.000000</td>\n",
       "      <td>55645.000000</td>\n",
       "      <td>30491.000000</td>\n",
       "      <td>16592.000000</td>\n",
       "      <td>50550.000000</td>\n",
       "      <td>54744.000000</td>\n",
       "      <td>55645.000000</td>\n",
       "      <td>32852.000000</td>\n",
       "      <td>54005.000000</td>\n",
       "      <td>50550.000000</td>\n",
       "      <td>55645.000000</td>\n",
       "      <td>51789.000000</td>\n",
       "      <td>12271.000000</td>\n",
       "      <td>17771.000000</td>\n",
       "      <td>54677.000000</td>\n",
       "      <td>55432.000000</td>\n",
       "      <td>50617.000000</td>\n",
       "      <td>24683.000000</td>\n",
       "      <td>40096.000000</td>\n",
       "      <td>3.511100e+04</td>\n",
       "      <td>55645.000000</td>\n",
       "      <td>4.494400e+04</td>\n",
       "    </tr>\n",
       "    <tr>\n",
       "      <th>mean</th>\n",
       "      <td>3491.795665</td>\n",
       "      <td>0.550737</td>\n",
       "      <td>1.052225</td>\n",
       "      <td>0.851979</td>\n",
       "      <td>1.956317</td>\n",
       "      <td>6.244479e+05</td>\n",
       "      <td>6.865210e+06</td>\n",
       "      <td>2.626690e+06</td>\n",
       "      <td>1.316002e+07</td>\n",
       "      <td>1.185585e+07</td>\n",
       "      <td>2.054715e+06</td>\n",
       "      <td>2.771113e+06</td>\n",
       "      <td>6.009944e+06</td>\n",
       "      <td>6.914875e+07</td>\n",
       "      <td>1.145041e+08</td>\n",
       "      <td>0.230425</td>\n",
       "      <td>0.265692</td>\n",
       "      <td>0.271832</td>\n",
       "      <td>0.948800</td>\n",
       "      <td>1.031593</td>\n",
       "      <td>86.500380</td>\n",
       "      <td>6628.316381</td>\n",
       "      <td>6452.875072</td>\n",
       "      <td>104.558516</td>\n",
       "      <td>2624.555935</td>\n",
       "      <td>10106.554899</td>\n",
       "      <td>6190.516948</td>\n",
       "      <td>17274.315141</td>\n",
       "      <td>16518.540695</td>\n",
       "      <td>5213.246663</td>\n",
       "      <td>10857.565755</td>\n",
       "      <td>938.345321</td>\n",
       "      <td>13.926583</td>\n",
       "      <td>0.230245</td>\n",
       "      <td>0.199866</td>\n",
       "      <td>12.859069</td>\n",
       "      <td>8.480435</td>\n",
       "      <td>8.601420</td>\n",
       "      <td>0.090849</td>\n",
       "      <td>147.797977</td>\n",
       "      <td>108.117363</td>\n",
       "      <td>0.368215</td>\n",
       "      <td>6.634511</td>\n",
       "      <td>0.563377</td>\n",
       "      <td>0.072520</td>\n",
       "      <td>0.095371</td>\n",
       "      <td>3.052449e+05</td>\n",
       "      <td>1.049061</td>\n",
       "      <td>6.005862e+05</td>\n",
       "    </tr>\n",
       "    <tr>\n",
       "      <th>std</th>\n",
       "      <td>188.462426</td>\n",
       "      <td>0.820979</td>\n",
       "      <td>2.147768</td>\n",
       "      <td>3.157692</td>\n",
       "      <td>10.512396</td>\n",
       "      <td>1.433422e+06</td>\n",
       "      <td>1.912729e+07</td>\n",
       "      <td>3.927355e+06</td>\n",
       "      <td>1.977963e+07</td>\n",
       "      <td>2.669459e+07</td>\n",
       "      <td>4.912980e+06</td>\n",
       "      <td>4.544838e+06</td>\n",
       "      <td>2.335893e+07</td>\n",
       "      <td>2.713995e+09</td>\n",
       "      <td>1.153842e+08</td>\n",
       "      <td>0.621833</td>\n",
       "      <td>0.720198</td>\n",
       "      <td>0.725434</td>\n",
       "      <td>1.736454</td>\n",
       "      <td>1.785122</td>\n",
       "      <td>53.445528</td>\n",
       "      <td>5661.059297</td>\n",
       "      <td>5739.968774</td>\n",
       "      <td>436.670719</td>\n",
       "      <td>1964.226548</td>\n",
       "      <td>8796.472481</td>\n",
       "      <td>5390.915344</td>\n",
       "      <td>26930.742020</td>\n",
       "      <td>9666.183962</td>\n",
       "      <td>3124.491488</td>\n",
       "      <td>6049.678489</td>\n",
       "      <td>1044.597044</td>\n",
       "      <td>15.208396</td>\n",
       "      <td>0.683063</td>\n",
       "      <td>0.574002</td>\n",
       "      <td>10.621984</td>\n",
       "      <td>9.328810</td>\n",
       "      <td>7.969215</td>\n",
       "      <td>0.423802</td>\n",
       "      <td>45.085889</td>\n",
       "      <td>36.765769</td>\n",
       "      <td>0.412858</td>\n",
       "      <td>6.378946</td>\n",
       "      <td>0.196973</td>\n",
       "      <td>0.291146</td>\n",
       "      <td>0.335210</td>\n",
       "      <td>1.647757e+06</td>\n",
       "      <td>1.806160</td>\n",
       "      <td>5.842405e+06</td>\n",
       "    </tr>\n",
       "    <tr>\n",
       "      <th>min</th>\n",
       "      <td>2990.000000</td>\n",
       "      <td>0.000000</td>\n",
       "      <td>0.000000</td>\n",
       "      <td>0.000000</td>\n",
       "      <td>0.000000</td>\n",
       "      <td>0.000000e+00</td>\n",
       "      <td>0.000000e+00</td>\n",
       "      <td>0.000000e+00</td>\n",
       "      <td>0.000000e+00</td>\n",
       "      <td>0.000000e+00</td>\n",
       "      <td>0.000000e+00</td>\n",
       "      <td>0.000000e+00</td>\n",
       "      <td>0.000000e+00</td>\n",
       "      <td>0.000000e+00</td>\n",
       "      <td>5.395430e+05</td>\n",
       "      <td>0.000000</td>\n",
       "      <td>0.000000</td>\n",
       "      <td>0.000000</td>\n",
       "      <td>0.000000</td>\n",
       "      <td>0.000000</td>\n",
       "      <td>0.255000</td>\n",
       "      <td>0.000000</td>\n",
       "      <td>0.000000</td>\n",
       "      <td>0.000000</td>\n",
       "      <td>0.000000</td>\n",
       "      <td>0.000000</td>\n",
       "      <td>0.000000</td>\n",
       "      <td>0.000000</td>\n",
       "      <td>0.000000</td>\n",
       "      <td>0.000000</td>\n",
       "      <td>0.000000</td>\n",
       "      <td>0.000000</td>\n",
       "      <td>0.166600</td>\n",
       "      <td>0.000000</td>\n",
       "      <td>0.000000</td>\n",
       "      <td>2.000000</td>\n",
       "      <td>0.000000</td>\n",
       "      <td>0.000000</td>\n",
       "      <td>0.000000</td>\n",
       "      <td>0.021000</td>\n",
       "      <td>0.000000</td>\n",
       "      <td>0.000000</td>\n",
       "      <td>0.000000</td>\n",
       "      <td>0.048528</td>\n",
       "      <td>0.000000</td>\n",
       "      <td>0.000000</td>\n",
       "      <td>0.000000e+00</td>\n",
       "      <td>0.000000</td>\n",
       "      <td>0.000000e+00</td>\n",
       "    </tr>\n",
       "    <tr>\n",
       "      <th>25%</th>\n",
       "      <td>3358.000000</td>\n",
       "      <td>0.070788</td>\n",
       "      <td>0.000000</td>\n",
       "      <td>0.000000</td>\n",
       "      <td>0.000000</td>\n",
       "      <td>1.400400e+04</td>\n",
       "      <td>6.869740e+05</td>\n",
       "      <td>1.929440e+05</td>\n",
       "      <td>1.368502e+06</td>\n",
       "      <td>4.500730e+05</td>\n",
       "      <td>2.172565e+05</td>\n",
       "      <td>2.758010e+05</td>\n",
       "      <td>1.921660e+05</td>\n",
       "      <td>1.657646e+07</td>\n",
       "      <td>5.007636e+07</td>\n",
       "      <td>0.000000</td>\n",
       "      <td>0.000000</td>\n",
       "      <td>0.000000</td>\n",
       "      <td>0.000000</td>\n",
       "      <td>0.000000</td>\n",
       "      <td>40.305000</td>\n",
       "      <td>1068.667500</td>\n",
       "      <td>797.145000</td>\n",
       "      <td>14.865000</td>\n",
       "      <td>1231.500000</td>\n",
       "      <td>3375.000000</td>\n",
       "      <td>2068.000000</td>\n",
       "      <td>60.000000</td>\n",
       "      <td>9765.000000</td>\n",
       "      <td>2312.000000</td>\n",
       "      <td>6297.000000</td>\n",
       "      <td>194.000000</td>\n",
       "      <td>2.333400</td>\n",
       "      <td>0.000000</td>\n",
       "      <td>0.000000</td>\n",
       "      <td>6.000000</td>\n",
       "      <td>2.000000</td>\n",
       "      <td>4.000000</td>\n",
       "      <td>0.000000</td>\n",
       "      <td>136.191750</td>\n",
       "      <td>87.055500</td>\n",
       "      <td>0.000000</td>\n",
       "      <td>2.020000</td>\n",
       "      <td>0.411672</td>\n",
       "      <td>0.000000</td>\n",
       "      <td>0.000000</td>\n",
       "      <td>7.710079e+01</td>\n",
       "      <td>0.000000</td>\n",
       "      <td>4.560141e-02</td>\n",
       "    </tr>\n",
       "    <tr>\n",
       "      <th>50%</th>\n",
       "      <td>3484.000000</td>\n",
       "      <td>0.267575</td>\n",
       "      <td>0.062000</td>\n",
       "      <td>0.000000</td>\n",
       "      <td>0.000000</td>\n",
       "      <td>1.155330e+05</td>\n",
       "      <td>2.704328e+06</td>\n",
       "      <td>9.639420e+05</td>\n",
       "      <td>5.506295e+06</td>\n",
       "      <td>3.707559e+06</td>\n",
       "      <td>6.986440e+05</td>\n",
       "      <td>1.163110e+06</td>\n",
       "      <td>1.605792e+06</td>\n",
       "      <td>2.814143e+07</td>\n",
       "      <td>8.442428e+07</td>\n",
       "      <td>0.000000</td>\n",
       "      <td>0.000000</td>\n",
       "      <td>0.000000</td>\n",
       "      <td>0.000000</td>\n",
       "      <td>0.000000</td>\n",
       "      <td>89.167500</td>\n",
       "      <td>5976.225000</td>\n",
       "      <td>5548.935000</td>\n",
       "      <td>60.660000</td>\n",
       "      <td>2203.500000</td>\n",
       "      <td>8214.000000</td>\n",
       "      <td>5110.000000</td>\n",
       "      <td>486.000000</td>\n",
       "      <td>15057.000000</td>\n",
       "      <td>5658.000000</td>\n",
       "      <td>10584.000000</td>\n",
       "      <td>598.000000</td>\n",
       "      <td>7.833400</td>\n",
       "      <td>0.000000</td>\n",
       "      <td>0.000000</td>\n",
       "      <td>10.000000</td>\n",
       "      <td>6.000000</td>\n",
       "      <td>6.000000</td>\n",
       "      <td>0.000000</td>\n",
       "      <td>150.000000</td>\n",
       "      <td>118.441500</td>\n",
       "      <td>0.220000</td>\n",
       "      <td>5.050000</td>\n",
       "      <td>0.588648</td>\n",
       "      <td>0.000000</td>\n",
       "      <td>0.000000</td>\n",
       "      <td>3.181243e+02</td>\n",
       "      <td>0.000000</td>\n",
       "      <td>1.703996e-01</td>\n",
       "    </tr>\n",
       "    <tr>\n",
       "      <th>75%</th>\n",
       "      <td>3620.000000</td>\n",
       "      <td>0.719512</td>\n",
       "      <td>1.282000</td>\n",
       "      <td>0.000000</td>\n",
       "      <td>0.000000</td>\n",
       "      <td>5.259280e+05</td>\n",
       "      <td>6.993831e+06</td>\n",
       "      <td>3.751516e+06</td>\n",
       "      <td>1.694552e+07</td>\n",
       "      <td>1.326101e+07</td>\n",
       "      <td>1.964839e+06</td>\n",
       "      <td>3.360182e+06</td>\n",
       "      <td>5.593626e+06</td>\n",
       "      <td>4.818738e+07</td>\n",
       "      <td>1.428735e+08</td>\n",
       "      <td>0.000000</td>\n",
       "      <td>0.000000</td>\n",
       "      <td>0.000000</td>\n",
       "      <td>1.000000</td>\n",
       "      <td>1.000000</td>\n",
       "      <td>129.892500</td>\n",
       "      <td>11354.171250</td>\n",
       "      <td>11280.000000</td>\n",
       "      <td>114.712500</td>\n",
       "      <td>3517.500000</td>\n",
       "      <td>14145.000000</td>\n",
       "      <td>8700.000000</td>\n",
       "      <td>60772.000000</td>\n",
       "      <td>21810.000000</td>\n",
       "      <td>7726.000000</td>\n",
       "      <td>14235.000000</td>\n",
       "      <td>1332.000000</td>\n",
       "      <td>21.166600</td>\n",
       "      <td>0.000000</td>\n",
       "      <td>0.000000</td>\n",
       "      <td>16.000000</td>\n",
       "      <td>12.000000</td>\n",
       "      <td>12.000000</td>\n",
       "      <td>0.000000</td>\n",
       "      <td>167.754000</td>\n",
       "      <td>137.496750</td>\n",
       "      <td>0.628573</td>\n",
       "      <td>10.100000</td>\n",
       "      <td>0.753840</td>\n",
       "      <td>0.000000</td>\n",
       "      <td>0.000000</td>\n",
       "      <td>1.153022e+03</td>\n",
       "      <td>1.181754</td>\n",
       "      <td>4.993370e-01</td>\n",
       "    </tr>\n",
       "    <tr>\n",
       "      <th>max</th>\n",
       "      <td>3900.000000</td>\n",
       "      <td>18.015050</td>\n",
       "      <td>57.371600</td>\n",
       "      <td>91.672200</td>\n",
       "      <td>407.748600</td>\n",
       "      <td>5.313546e+07</td>\n",
       "      <td>2.158794e+09</td>\n",
       "      <td>1.037397e+08</td>\n",
       "      <td>3.200533e+08</td>\n",
       "      <td>2.191361e+09</td>\n",
       "      <td>1.707430e+08</td>\n",
       "      <td>1.240439e+08</td>\n",
       "      <td>2.457824e+09</td>\n",
       "      <td>3.854990e+11</td>\n",
       "      <td>3.456119e+09</td>\n",
       "      <td>11.000000</td>\n",
       "      <td>21.000000</td>\n",
       "      <td>21.000000</td>\n",
       "      <td>28.000000</td>\n",
       "      <td>29.000000</td>\n",
       "      <td>1957.875000</td>\n",
       "      <td>97200.000000</td>\n",
       "      <td>97200.000000</td>\n",
       "      <td>31863.750000</td>\n",
       "      <td>25093.500000</td>\n",
       "      <td>73275.000000</td>\n",
       "      <td>42522.000000</td>\n",
       "      <td>60772.000000</td>\n",
       "      <td>73914.000000</td>\n",
       "      <td>25550.000000</td>\n",
       "      <td>47085.000000</td>\n",
       "      <td>21306.000000</td>\n",
       "      <td>152.000000</td>\n",
       "      <td>21.000000</td>\n",
       "      <td>10.000000</td>\n",
       "      <td>200.000000</td>\n",
       "      <td>106.000000</td>\n",
       "      <td>156.000000</td>\n",
       "      <td>21.000000</td>\n",
       "      <td>645.450000</td>\n",
       "      <td>255.000000</td>\n",
       "      <td>2.200000</td>\n",
       "      <td>91.910000</td>\n",
       "      <td>0.800000</td>\n",
       "      <td>5.000000</td>\n",
       "      <td>5.000000</td>\n",
       "      <td>5.321014e+07</td>\n",
       "      <td>28.000000</td>\n",
       "      <td>2.307571e+08</td>\n",
       "    </tr>\n",
       "  </tbody>\n",
       "</table>\n",
       "</div>"
      ],
      "text/plain": [
       "        form_field1   form_field2   form_field3   form_field4   form_field5  \\\n",
       "count  53471.000000  52156.000000  55645.000000  55645.000000  55645.000000   \n",
       "mean    3491.795665      0.550737      1.052225      0.851979      1.956317   \n",
       "std      188.462426      0.820979      2.147768      3.157692     10.512396   \n",
       "min     2990.000000      0.000000      0.000000      0.000000      0.000000   \n",
       "25%     3358.000000      0.070788      0.000000      0.000000      0.000000   \n",
       "50%     3484.000000      0.267575      0.062000      0.000000      0.000000   \n",
       "75%     3620.000000      0.719512      1.282000      0.000000      0.000000   \n",
       "max     3900.000000     18.015050     57.371600     91.672200    407.748600   \n",
       "\n",
       "        form_field6   form_field7   form_field8   form_field9  form_field10  \\\n",
       "count  4.264000e+04  5.083700e+04  4.264000e+04  4.799200e+04  5.564500e+04   \n",
       "mean   6.244479e+05  6.865210e+06  2.626690e+06  1.316002e+07  1.185585e+07   \n",
       "std    1.433422e+06  1.912729e+07  3.927355e+06  1.977963e+07  2.669459e+07   \n",
       "min    0.000000e+00  0.000000e+00  0.000000e+00  0.000000e+00  0.000000e+00   \n",
       "25%    1.400400e+04  6.869740e+05  1.929440e+05  1.368502e+06  4.500730e+05   \n",
       "50%    1.155330e+05  2.704328e+06  9.639420e+05  5.506295e+06  3.707559e+06   \n",
       "75%    5.259280e+05  6.993831e+06  3.751516e+06  1.694552e+07  1.326101e+07   \n",
       "max    5.313546e+07  2.158794e+09  1.037397e+08  3.200533e+08  2.191361e+09   \n",
       "\n",
       "       form_field11  form_field12  form_field13  form_field14  form_field15  \\\n",
       "count  2.457900e+04  4.610500e+04  5.011100e+04  5.600000e+04  3.352500e+04   \n",
       "mean   2.054715e+06  2.771113e+06  6.009944e+06  6.914875e+07  1.145041e+08   \n",
       "std    4.912980e+06  4.544838e+06  2.335893e+07  2.713995e+09  1.153842e+08   \n",
       "min    0.000000e+00  0.000000e+00  0.000000e+00  0.000000e+00  5.395430e+05   \n",
       "25%    2.172565e+05  2.758010e+05  1.921660e+05  1.657646e+07  5.007636e+07   \n",
       "50%    6.986440e+05  1.163110e+06  1.605792e+06  2.814143e+07  8.442428e+07   \n",
       "75%    1.964839e+06  3.360182e+06  5.593626e+06  4.818738e+07  1.428735e+08   \n",
       "max    1.707430e+08  1.240439e+08  2.457824e+09  3.854990e+11  3.456119e+09   \n",
       "\n",
       "       form_field16  form_field17  form_field18  form_field19  form_field20  \\\n",
       "count  42964.000000  44849.000000  45598.000000  55996.000000  55645.000000   \n",
       "mean       0.230425      0.265692      0.271832      0.948800      1.031593   \n",
       "std        0.621833      0.720198      0.725434      1.736454      1.785122   \n",
       "min        0.000000      0.000000      0.000000      0.000000      0.000000   \n",
       "25%        0.000000      0.000000      0.000000      0.000000      0.000000   \n",
       "50%        0.000000      0.000000      0.000000      0.000000      0.000000   \n",
       "75%        0.000000      0.000000      0.000000      1.000000      1.000000   \n",
       "max       11.000000     21.000000     21.000000     28.000000     29.000000   \n",
       "\n",
       "       form_field21  form_field22  form_field23  form_field24  form_field25  \\\n",
       "count  40146.000000  35600.000000  27877.000000  42703.000000  50550.000000   \n",
       "mean      86.500380   6628.316381   6452.875072    104.558516   2624.555935   \n",
       "std       53.445528   5661.059297   5739.968774    436.670719   1964.226548   \n",
       "min        0.255000      0.000000      0.000000      0.000000      0.000000   \n",
       "25%       40.305000   1068.667500    797.145000     14.865000   1231.500000   \n",
       "50%       89.167500   5976.225000   5548.935000     60.660000   2203.500000   \n",
       "75%      129.892500  11354.171250  11280.000000    114.712500   3517.500000   \n",
       "max     1957.875000  97200.000000  97200.000000  31863.750000  25093.500000   \n",
       "\n",
       "       form_field26  form_field27  form_field28  form_field29  form_field30  \\\n",
       "count  48562.000000  46701.000000  55645.000000  55645.000000  30491.000000   \n",
       "mean   10106.554899   6190.516948  17274.315141  16518.540695   5213.246663   \n",
       "std     8796.472481   5390.915344  26930.742020   9666.183962   3124.491488   \n",
       "min        0.000000      0.000000      0.000000      0.000000      0.000000   \n",
       "25%     3375.000000   2068.000000     60.000000   9765.000000   2312.000000   \n",
       "50%     8214.000000   5110.000000    486.000000  15057.000000   5658.000000   \n",
       "75%    14145.000000   8700.000000  60772.000000  21810.000000   7726.000000   \n",
       "max    73275.000000  42522.000000  60772.000000  73914.000000  25550.000000   \n",
       "\n",
       "       form_field31  form_field32  form_field33  form_field34  form_field35  \\\n",
       "count  16592.000000  50550.000000  54744.000000  55645.000000  32852.000000   \n",
       "mean   10857.565755    938.345321     13.926583      0.230245      0.199866   \n",
       "std     6049.678489   1044.597044     15.208396      0.683063      0.574002   \n",
       "min        0.000000      0.000000      0.166600      0.000000      0.000000   \n",
       "25%     6297.000000    194.000000      2.333400      0.000000      0.000000   \n",
       "50%    10584.000000    598.000000      7.833400      0.000000      0.000000   \n",
       "75%    14235.000000   1332.000000     21.166600      0.000000      0.000000   \n",
       "max    47085.000000  21306.000000    152.000000     21.000000     10.000000   \n",
       "\n",
       "       form_field36  form_field37  form_field38  form_field39  form_field40  \\\n",
       "count  54005.000000  50550.000000  55645.000000  51789.000000  12271.000000   \n",
       "mean      12.859069      8.480435      8.601420      0.090849    147.797977   \n",
       "std       10.621984      9.328810      7.969215      0.423802     45.085889   \n",
       "min        2.000000      0.000000      0.000000      0.000000      0.021000   \n",
       "25%        6.000000      2.000000      4.000000      0.000000    136.191750   \n",
       "50%       10.000000      6.000000      6.000000      0.000000    150.000000   \n",
       "75%       16.000000     12.000000     12.000000      0.000000    167.754000   \n",
       "max      200.000000    106.000000    156.000000     21.000000    645.450000   \n",
       "\n",
       "       form_field41  form_field42  form_field43  form_field44  form_field45  \\\n",
       "count  17771.000000  54677.000000  55432.000000  50617.000000  24683.000000   \n",
       "mean     108.117363      0.368215      6.634511      0.563377      0.072520   \n",
       "std       36.765769      0.412858      6.378946      0.196973      0.291146   \n",
       "min        0.000000      0.000000      0.000000      0.048528      0.000000   \n",
       "25%       87.055500      0.000000      2.020000      0.411672      0.000000   \n",
       "50%      118.441500      0.220000      5.050000      0.588648      0.000000   \n",
       "75%      137.496750      0.628573     10.100000      0.753840      0.000000   \n",
       "max      255.000000      2.200000     91.910000      0.800000      5.000000   \n",
       "\n",
       "       form_field46  form_field48  form_field49  form_field50  \n",
       "count  40096.000000  3.511100e+04  55645.000000  4.494400e+04  \n",
       "mean       0.095371  3.052449e+05      1.049061  6.005862e+05  \n",
       "std        0.335210  1.647757e+06      1.806160  5.842405e+06  \n",
       "min        0.000000  0.000000e+00      0.000000  0.000000e+00  \n",
       "25%        0.000000  7.710079e+01      0.000000  4.560141e-02  \n",
       "50%        0.000000  3.181243e+02      0.000000  1.703996e-01  \n",
       "75%        0.000000  1.153022e+03      1.181754  4.993370e-01  \n",
       "max        5.000000  5.321014e+07     28.000000  2.307571e+08  "
      ]
     },
     "execution_count": 9,
     "metadata": {},
     "output_type": "execute_result"
    },
    {
     "data": {
      "text/html": [
       "<div>\n",
       "<style scoped>\n",
       "    .dataframe tbody tr th:only-of-type {\n",
       "        vertical-align: middle;\n",
       "    }\n",
       "\n",
       "    .dataframe tbody tr th {\n",
       "        vertical-align: top;\n",
       "    }\n",
       "\n",
       "    .dataframe thead th {\n",
       "        text-align: right;\n",
       "    }\n",
       "</style>\n",
       "<table border=\"1\" class=\"dataframe\">\n",
       "  <thead>\n",
       "    <tr style=\"text-align: right;\">\n",
       "      <th></th>\n",
       "      <th>form_field1</th>\n",
       "      <th>form_field2</th>\n",
       "      <th>form_field3</th>\n",
       "      <th>form_field4</th>\n",
       "      <th>form_field5</th>\n",
       "      <th>form_field6</th>\n",
       "      <th>form_field7</th>\n",
       "      <th>form_field8</th>\n",
       "      <th>form_field9</th>\n",
       "      <th>form_field10</th>\n",
       "      <th>form_field11</th>\n",
       "      <th>form_field12</th>\n",
       "      <th>form_field13</th>\n",
       "      <th>form_field14</th>\n",
       "      <th>form_field15</th>\n",
       "      <th>form_field16</th>\n",
       "      <th>form_field17</th>\n",
       "      <th>form_field18</th>\n",
       "      <th>form_field19</th>\n",
       "      <th>form_field20</th>\n",
       "      <th>form_field21</th>\n",
       "      <th>form_field22</th>\n",
       "      <th>form_field23</th>\n",
       "      <th>form_field24</th>\n",
       "      <th>form_field25</th>\n",
       "      <th>form_field26</th>\n",
       "      <th>form_field27</th>\n",
       "      <th>form_field28</th>\n",
       "      <th>form_field29</th>\n",
       "      <th>form_field30</th>\n",
       "      <th>form_field31</th>\n",
       "      <th>form_field32</th>\n",
       "      <th>form_field33</th>\n",
       "      <th>form_field34</th>\n",
       "      <th>form_field35</th>\n",
       "      <th>form_field36</th>\n",
       "      <th>form_field37</th>\n",
       "      <th>form_field38</th>\n",
       "      <th>form_field39</th>\n",
       "      <th>form_field40</th>\n",
       "      <th>form_field41</th>\n",
       "      <th>form_field42</th>\n",
       "      <th>form_field43</th>\n",
       "      <th>form_field44</th>\n",
       "      <th>form_field45</th>\n",
       "      <th>form_field46</th>\n",
       "      <th>form_field48</th>\n",
       "      <th>form_field49</th>\n",
       "      <th>form_field50</th>\n",
       "    </tr>\n",
       "  </thead>\n",
       "  <tbody>\n",
       "    <tr>\n",
       "      <th>count</th>\n",
       "      <td>22890.000000</td>\n",
       "      <td>22291.000000</td>\n",
       "      <td>23854.000000</td>\n",
       "      <td>23854.000000</td>\n",
       "      <td>23854.000000</td>\n",
       "      <td>1.839600e+04</td>\n",
       "      <td>2.176900e+04</td>\n",
       "      <td>1.839600e+04</td>\n",
       "      <td>2.060000e+04</td>\n",
       "      <td>2.385300e+04</td>\n",
       "      <td>1.060200e+04</td>\n",
       "      <td>1.981700e+04</td>\n",
       "      <td>2.153700e+04</td>\n",
       "      <td>2.400000e+04</td>\n",
       "      <td>1.440800e+04</td>\n",
       "      <td>18526.000000</td>\n",
       "      <td>19305.000000</td>\n",
       "      <td>19631.000000</td>\n",
       "      <td>24000.000000</td>\n",
       "      <td>23853.000000</td>\n",
       "      <td>17293.000000</td>\n",
       "      <td>15276.000000</td>\n",
       "      <td>11875.000000</td>\n",
       "      <td>18395.000000</td>\n",
       "      <td>21744.000000</td>\n",
       "      <td>20828.000000</td>\n",
       "      <td>20090.000000</td>\n",
       "      <td>23853.000000</td>\n",
       "      <td>23853.000000</td>\n",
       "      <td>13092.000000</td>\n",
       "      <td>7190.000000</td>\n",
       "      <td>21744.000000</td>\n",
       "      <td>23505.000000</td>\n",
       "      <td>23853.000000</td>\n",
       "      <td>14134.000000</td>\n",
       "      <td>23097.000000</td>\n",
       "      <td>21744.000000</td>\n",
       "      <td>23853.000000</td>\n",
       "      <td>22171.000000</td>\n",
       "      <td>5172.000000</td>\n",
       "      <td>7651.000000</td>\n",
       "      <td>23422.000000</td>\n",
       "      <td>23750.000000</td>\n",
       "      <td>21638.000000</td>\n",
       "      <td>10462.000000</td>\n",
       "      <td>17115.000000</td>\n",
       "      <td>1.507800e+04</td>\n",
       "      <td>23854.000000</td>\n",
       "      <td>1.920300e+04</td>\n",
       "    </tr>\n",
       "    <tr>\n",
       "      <th>mean</th>\n",
       "      <td>3492.284404</td>\n",
       "      <td>0.557676</td>\n",
       "      <td>1.065443</td>\n",
       "      <td>0.859146</td>\n",
       "      <td>2.183538</td>\n",
       "      <td>6.263036e+05</td>\n",
       "      <td>6.797033e+06</td>\n",
       "      <td>2.654142e+06</td>\n",
       "      <td>1.350593e+07</td>\n",
       "      <td>1.187478e+07</td>\n",
       "      <td>2.132302e+06</td>\n",
       "      <td>2.772047e+06</td>\n",
       "      <td>5.984000e+06</td>\n",
       "      <td>9.291862e+07</td>\n",
       "      <td>1.141483e+08</td>\n",
       "      <td>0.234265</td>\n",
       "      <td>0.267651</td>\n",
       "      <td>0.272477</td>\n",
       "      <td>0.938458</td>\n",
       "      <td>1.020459</td>\n",
       "      <td>87.114080</td>\n",
       "      <td>6653.189477</td>\n",
       "      <td>6473.026142</td>\n",
       "      <td>105.934375</td>\n",
       "      <td>2626.358030</td>\n",
       "      <td>10109.255617</td>\n",
       "      <td>6199.305027</td>\n",
       "      <td>17715.546221</td>\n",
       "      <td>16507.914099</td>\n",
       "      <td>5248.247174</td>\n",
       "      <td>10934.016134</td>\n",
       "      <td>946.711921</td>\n",
       "      <td>14.148066</td>\n",
       "      <td>0.229740</td>\n",
       "      <td>0.194071</td>\n",
       "      <td>12.777157</td>\n",
       "      <td>8.554544</td>\n",
       "      <td>8.506184</td>\n",
       "      <td>0.090749</td>\n",
       "      <td>147.623280</td>\n",
       "      <td>108.209648</td>\n",
       "      <td>0.369684</td>\n",
       "      <td>6.580480</td>\n",
       "      <td>0.566219</td>\n",
       "      <td>0.066526</td>\n",
       "      <td>0.097926</td>\n",
       "      <td>3.015440e+05</td>\n",
       "      <td>1.064118</td>\n",
       "      <td>6.749843e+05</td>\n",
       "    </tr>\n",
       "    <tr>\n",
       "      <th>std</th>\n",
       "      <td>190.502764</td>\n",
       "      <td>0.826543</td>\n",
       "      <td>2.198444</td>\n",
       "      <td>3.403115</td>\n",
       "      <td>11.415706</td>\n",
       "      <td>1.457540e+06</td>\n",
       "      <td>1.626022e+07</td>\n",
       "      <td>3.968185e+06</td>\n",
       "      <td>2.289125e+07</td>\n",
       "      <td>2.477113e+07</td>\n",
       "      <td>5.733605e+06</td>\n",
       "      <td>4.794095e+06</td>\n",
       "      <td>1.947650e+07</td>\n",
       "      <td>3.768364e+09</td>\n",
       "      <td>1.194017e+08</td>\n",
       "      <td>0.622532</td>\n",
       "      <td>0.701223</td>\n",
       "      <td>0.706765</td>\n",
       "      <td>1.705298</td>\n",
       "      <td>1.757307</td>\n",
       "      <td>53.179142</td>\n",
       "      <td>5701.118265</td>\n",
       "      <td>5929.962163</td>\n",
       "      <td>479.903878</td>\n",
       "      <td>1946.845869</td>\n",
       "      <td>8787.532233</td>\n",
       "      <td>5388.387561</td>\n",
       "      <td>27153.459422</td>\n",
       "      <td>9672.296721</td>\n",
       "      <td>3138.183322</td>\n",
       "      <td>6168.907825</td>\n",
       "      <td>1057.985881</td>\n",
       "      <td>15.511387</td>\n",
       "      <td>0.671496</td>\n",
       "      <td>0.558517</td>\n",
       "      <td>10.451113</td>\n",
       "      <td>9.469110</td>\n",
       "      <td>7.833898</td>\n",
       "      <td>0.408602</td>\n",
       "      <td>43.580328</td>\n",
       "      <td>36.426276</td>\n",
       "      <td>0.414077</td>\n",
       "      <td>6.363075</td>\n",
       "      <td>0.196060</td>\n",
       "      <td>0.278211</td>\n",
       "      <td>0.370392</td>\n",
       "      <td>1.868574e+06</td>\n",
       "      <td>1.816837</td>\n",
       "      <td>6.561031e+06</td>\n",
       "    </tr>\n",
       "    <tr>\n",
       "      <th>min</th>\n",
       "      <td>2986.000000</td>\n",
       "      <td>0.000000</td>\n",
       "      <td>0.000000</td>\n",
       "      <td>0.000000</td>\n",
       "      <td>0.000000</td>\n",
       "      <td>0.000000e+00</td>\n",
       "      <td>0.000000e+00</td>\n",
       "      <td>0.000000e+00</td>\n",
       "      <td>0.000000e+00</td>\n",
       "      <td>0.000000e+00</td>\n",
       "      <td>0.000000e+00</td>\n",
       "      <td>0.000000e+00</td>\n",
       "      <td>0.000000e+00</td>\n",
       "      <td>0.000000e+00</td>\n",
       "      <td>1.811573e+06</td>\n",
       "      <td>0.000000</td>\n",
       "      <td>0.000000</td>\n",
       "      <td>0.000000</td>\n",
       "      <td>0.000000</td>\n",
       "      <td>0.000000</td>\n",
       "      <td>0.405000</td>\n",
       "      <td>0.000000</td>\n",
       "      <td>0.000000</td>\n",
       "      <td>0.000000</td>\n",
       "      <td>0.000000</td>\n",
       "      <td>0.000000</td>\n",
       "      <td>0.000000</td>\n",
       "      <td>0.000000</td>\n",
       "      <td>0.000000</td>\n",
       "      <td>0.000000</td>\n",
       "      <td>0.000000</td>\n",
       "      <td>0.000000</td>\n",
       "      <td>0.166600</td>\n",
       "      <td>0.000000</td>\n",
       "      <td>0.000000</td>\n",
       "      <td>2.000000</td>\n",
       "      <td>0.000000</td>\n",
       "      <td>0.000000</td>\n",
       "      <td>0.000000</td>\n",
       "      <td>0.075000</td>\n",
       "      <td>0.000000</td>\n",
       "      <td>0.000000</td>\n",
       "      <td>0.000000</td>\n",
       "      <td>0.066432</td>\n",
       "      <td>0.000000</td>\n",
       "      <td>0.000000</td>\n",
       "      <td>0.000000e+00</td>\n",
       "      <td>0.000000</td>\n",
       "      <td>0.000000e+00</td>\n",
       "    </tr>\n",
       "    <tr>\n",
       "      <th>25%</th>\n",
       "      <td>3356.000000</td>\n",
       "      <td>0.068675</td>\n",
       "      <td>0.000000</td>\n",
       "      <td>0.000000</td>\n",
       "      <td>0.000000</td>\n",
       "      <td>1.400400e+04</td>\n",
       "      <td>6.725810e+05</td>\n",
       "      <td>1.816630e+05</td>\n",
       "      <td>1.349441e+06</td>\n",
       "      <td>4.208980e+05</td>\n",
       "      <td>2.039332e+05</td>\n",
       "      <td>2.715220e+05</td>\n",
       "      <td>2.007240e+05</td>\n",
       "      <td>1.657646e+07</td>\n",
       "      <td>4.952544e+07</td>\n",
       "      <td>0.000000</td>\n",
       "      <td>0.000000</td>\n",
       "      <td>0.000000</td>\n",
       "      <td>0.000000</td>\n",
       "      <td>0.000000</td>\n",
       "      <td>40.545000</td>\n",
       "      <td>1140.933750</td>\n",
       "      <td>858.157500</td>\n",
       "      <td>14.730000</td>\n",
       "      <td>1231.500000</td>\n",
       "      <td>3375.000000</td>\n",
       "      <td>2068.000000</td>\n",
       "      <td>60.000000</td>\n",
       "      <td>9765.000000</td>\n",
       "      <td>2312.000000</td>\n",
       "      <td>6297.000000</td>\n",
       "      <td>194.000000</td>\n",
       "      <td>2.500000</td>\n",
       "      <td>0.000000</td>\n",
       "      <td>0.000000</td>\n",
       "      <td>6.000000</td>\n",
       "      <td>2.000000</td>\n",
       "      <td>4.000000</td>\n",
       "      <td>0.000000</td>\n",
       "      <td>135.531750</td>\n",
       "      <td>87.499500</td>\n",
       "      <td>0.000000</td>\n",
       "      <td>2.020000</td>\n",
       "      <td>0.413268</td>\n",
       "      <td>0.000000</td>\n",
       "      <td>0.000000</td>\n",
       "      <td>7.272364e+01</td>\n",
       "      <td>0.000000</td>\n",
       "      <td>4.500510e-02</td>\n",
       "    </tr>\n",
       "    <tr>\n",
       "      <th>50%</th>\n",
       "      <td>3484.000000</td>\n",
       "      <td>0.273250</td>\n",
       "      <td>0.058200</td>\n",
       "      <td>0.000000</td>\n",
       "      <td>0.000000</td>\n",
       "      <td>1.155330e+05</td>\n",
       "      <td>2.719888e+06</td>\n",
       "      <td>9.594685e+05</td>\n",
       "      <td>5.529830e+06</td>\n",
       "      <td>3.651543e+06</td>\n",
       "      <td>6.727755e+05</td>\n",
       "      <td>1.149495e+06</td>\n",
       "      <td>1.563391e+06</td>\n",
       "      <td>2.814143e+07</td>\n",
       "      <td>8.326778e+07</td>\n",
       "      <td>0.000000</td>\n",
       "      <td>0.000000</td>\n",
       "      <td>0.000000</td>\n",
       "      <td>0.000000</td>\n",
       "      <td>0.000000</td>\n",
       "      <td>90.135000</td>\n",
       "      <td>5918.475000</td>\n",
       "      <td>5561.535000</td>\n",
       "      <td>60.690000</td>\n",
       "      <td>2212.500000</td>\n",
       "      <td>8214.000000</td>\n",
       "      <td>5110.000000</td>\n",
       "      <td>486.000000</td>\n",
       "      <td>15057.000000</td>\n",
       "      <td>5658.000000</td>\n",
       "      <td>10677.000000</td>\n",
       "      <td>600.000000</td>\n",
       "      <td>7.833400</td>\n",
       "      <td>0.000000</td>\n",
       "      <td>0.000000</td>\n",
       "      <td>10.000000</td>\n",
       "      <td>6.000000</td>\n",
       "      <td>6.000000</td>\n",
       "      <td>0.000000</td>\n",
       "      <td>150.000000</td>\n",
       "      <td>117.984000</td>\n",
       "      <td>0.220000</td>\n",
       "      <td>5.050000</td>\n",
       "      <td>0.592100</td>\n",
       "      <td>0.000000</td>\n",
       "      <td>0.000000</td>\n",
       "      <td>3.131754e+02</td>\n",
       "      <td>0.000000</td>\n",
       "      <td>1.680000e-01</td>\n",
       "    </tr>\n",
       "    <tr>\n",
       "      <th>75%</th>\n",
       "      <td>3624.000000</td>\n",
       "      <td>0.728850</td>\n",
       "      <td>1.304250</td>\n",
       "      <td>0.000000</td>\n",
       "      <td>0.000000</td>\n",
       "      <td>5.159112e+05</td>\n",
       "      <td>7.073576e+06</td>\n",
       "      <td>3.799849e+06</td>\n",
       "      <td>1.728658e+07</td>\n",
       "      <td>1.318126e+07</td>\n",
       "      <td>1.959393e+06</td>\n",
       "      <td>3.395581e+06</td>\n",
       "      <td>5.582150e+06</td>\n",
       "      <td>4.818738e+07</td>\n",
       "      <td>1.410477e+08</td>\n",
       "      <td>0.000000</td>\n",
       "      <td>0.000000</td>\n",
       "      <td>0.000000</td>\n",
       "      <td>1.000000</td>\n",
       "      <td>1.000000</td>\n",
       "      <td>130.005000</td>\n",
       "      <td>11386.365000</td>\n",
       "      <td>11291.880000</td>\n",
       "      <td>114.990000</td>\n",
       "      <td>3553.500000</td>\n",
       "      <td>14145.000000</td>\n",
       "      <td>8638.000000</td>\n",
       "      <td>60772.000000</td>\n",
       "      <td>21810.000000</td>\n",
       "      <td>7726.000000</td>\n",
       "      <td>14145.000000</td>\n",
       "      <td>1336.000000</td>\n",
       "      <td>21.333400</td>\n",
       "      <td>0.000000</td>\n",
       "      <td>0.000000</td>\n",
       "      <td>16.000000</td>\n",
       "      <td>12.000000</td>\n",
       "      <td>12.000000</td>\n",
       "      <td>0.000000</td>\n",
       "      <td>167.078250</td>\n",
       "      <td>137.207250</td>\n",
       "      <td>0.628573</td>\n",
       "      <td>10.100000</td>\n",
       "      <td>0.756544</td>\n",
       "      <td>0.000000</td>\n",
       "      <td>0.000000</td>\n",
       "      <td>1.195997e+03</td>\n",
       "      <td>1.254155</td>\n",
       "      <td>5.007093e-01</td>\n",
       "    </tr>\n",
       "    <tr>\n",
       "      <th>max</th>\n",
       "      <td>3900.000000</td>\n",
       "      <td>22.315050</td>\n",
       "      <td>34.541400</td>\n",
       "      <td>206.452800</td>\n",
       "      <td>297.885600</td>\n",
       "      <td>4.818738e+07</td>\n",
       "      <td>7.709887e+08</td>\n",
       "      <td>1.135141e+08</td>\n",
       "      <td>1.443921e+09</td>\n",
       "      <td>7.741014e+08</td>\n",
       "      <td>1.805987e+08</td>\n",
       "      <td>1.609235e+08</td>\n",
       "      <td>1.387407e+09</td>\n",
       "      <td>3.854990e+11</td>\n",
       "      <td>3.897067e+09</td>\n",
       "      <td>9.000000</td>\n",
       "      <td>10.000000</td>\n",
       "      <td>10.000000</td>\n",
       "      <td>24.000000</td>\n",
       "      <td>24.000000</td>\n",
       "      <td>799.200000</td>\n",
       "      <td>79920.000000</td>\n",
       "      <td>186799.995000</td>\n",
       "      <td>41801.100000</td>\n",
       "      <td>20121.000000</td>\n",
       "      <td>66156.000000</td>\n",
       "      <td>44104.000000</td>\n",
       "      <td>60772.000000</td>\n",
       "      <td>70170.000000</td>\n",
       "      <td>20318.000000</td>\n",
       "      <td>45900.000000</td>\n",
       "      <td>11618.000000</td>\n",
       "      <td>124.000000</td>\n",
       "      <td>15.000000</td>\n",
       "      <td>8.000000</td>\n",
       "      <td>192.000000</td>\n",
       "      <td>120.000000</td>\n",
       "      <td>190.000000</td>\n",
       "      <td>15.000000</td>\n",
       "      <td>401.413500</td>\n",
       "      <td>211.693500</td>\n",
       "      <td>2.200000</td>\n",
       "      <td>91.910000</td>\n",
       "      <td>0.800000</td>\n",
       "      <td>5.000000</td>\n",
       "      <td>19.000000</td>\n",
       "      <td>1.213991e+08</td>\n",
       "      <td>24.000000</td>\n",
       "      <td>2.524591e+08</td>\n",
       "    </tr>\n",
       "  </tbody>\n",
       "</table>\n",
       "</div>"
      ],
      "text/plain": [
       "        form_field1   form_field2   form_field3   form_field4   form_field5  \\\n",
       "count  22890.000000  22291.000000  23854.000000  23854.000000  23854.000000   \n",
       "mean    3492.284404      0.557676      1.065443      0.859146      2.183538   \n",
       "std      190.502764      0.826543      2.198444      3.403115     11.415706   \n",
       "min     2986.000000      0.000000      0.000000      0.000000      0.000000   \n",
       "25%     3356.000000      0.068675      0.000000      0.000000      0.000000   \n",
       "50%     3484.000000      0.273250      0.058200      0.000000      0.000000   \n",
       "75%     3624.000000      0.728850      1.304250      0.000000      0.000000   \n",
       "max     3900.000000     22.315050     34.541400    206.452800    297.885600   \n",
       "\n",
       "        form_field6   form_field7   form_field8   form_field9  form_field10  \\\n",
       "count  1.839600e+04  2.176900e+04  1.839600e+04  2.060000e+04  2.385300e+04   \n",
       "mean   6.263036e+05  6.797033e+06  2.654142e+06  1.350593e+07  1.187478e+07   \n",
       "std    1.457540e+06  1.626022e+07  3.968185e+06  2.289125e+07  2.477113e+07   \n",
       "min    0.000000e+00  0.000000e+00  0.000000e+00  0.000000e+00  0.000000e+00   \n",
       "25%    1.400400e+04  6.725810e+05  1.816630e+05  1.349441e+06  4.208980e+05   \n",
       "50%    1.155330e+05  2.719888e+06  9.594685e+05  5.529830e+06  3.651543e+06   \n",
       "75%    5.159112e+05  7.073576e+06  3.799849e+06  1.728658e+07  1.318126e+07   \n",
       "max    4.818738e+07  7.709887e+08  1.135141e+08  1.443921e+09  7.741014e+08   \n",
       "\n",
       "       form_field11  form_field12  form_field13  form_field14  form_field15  \\\n",
       "count  1.060200e+04  1.981700e+04  2.153700e+04  2.400000e+04  1.440800e+04   \n",
       "mean   2.132302e+06  2.772047e+06  5.984000e+06  9.291862e+07  1.141483e+08   \n",
       "std    5.733605e+06  4.794095e+06  1.947650e+07  3.768364e+09  1.194017e+08   \n",
       "min    0.000000e+00  0.000000e+00  0.000000e+00  0.000000e+00  1.811573e+06   \n",
       "25%    2.039332e+05  2.715220e+05  2.007240e+05  1.657646e+07  4.952544e+07   \n",
       "50%    6.727755e+05  1.149495e+06  1.563391e+06  2.814143e+07  8.326778e+07   \n",
       "75%    1.959393e+06  3.395581e+06  5.582150e+06  4.818738e+07  1.410477e+08   \n",
       "max    1.805987e+08  1.609235e+08  1.387407e+09  3.854990e+11  3.897067e+09   \n",
       "\n",
       "       form_field16  form_field17  form_field18  form_field19  form_field20  \\\n",
       "count  18526.000000  19305.000000  19631.000000  24000.000000  23853.000000   \n",
       "mean       0.234265      0.267651      0.272477      0.938458      1.020459   \n",
       "std        0.622532      0.701223      0.706765      1.705298      1.757307   \n",
       "min        0.000000      0.000000      0.000000      0.000000      0.000000   \n",
       "25%        0.000000      0.000000      0.000000      0.000000      0.000000   \n",
       "50%        0.000000      0.000000      0.000000      0.000000      0.000000   \n",
       "75%        0.000000      0.000000      0.000000      1.000000      1.000000   \n",
       "max        9.000000     10.000000     10.000000     24.000000     24.000000   \n",
       "\n",
       "       form_field21  form_field22   form_field23  form_field24  form_field25  \\\n",
       "count  17293.000000  15276.000000   11875.000000  18395.000000  21744.000000   \n",
       "mean      87.114080   6653.189477    6473.026142    105.934375   2626.358030   \n",
       "std       53.179142   5701.118265    5929.962163    479.903878   1946.845869   \n",
       "min        0.405000      0.000000       0.000000      0.000000      0.000000   \n",
       "25%       40.545000   1140.933750     858.157500     14.730000   1231.500000   \n",
       "50%       90.135000   5918.475000    5561.535000     60.690000   2212.500000   \n",
       "75%      130.005000  11386.365000   11291.880000    114.990000   3553.500000   \n",
       "max      799.200000  79920.000000  186799.995000  41801.100000  20121.000000   \n",
       "\n",
       "       form_field26  form_field27  form_field28  form_field29  form_field30  \\\n",
       "count  20828.000000  20090.000000  23853.000000  23853.000000  13092.000000   \n",
       "mean   10109.255617   6199.305027  17715.546221  16507.914099   5248.247174   \n",
       "std     8787.532233   5388.387561  27153.459422   9672.296721   3138.183322   \n",
       "min        0.000000      0.000000      0.000000      0.000000      0.000000   \n",
       "25%     3375.000000   2068.000000     60.000000   9765.000000   2312.000000   \n",
       "50%     8214.000000   5110.000000    486.000000  15057.000000   5658.000000   \n",
       "75%    14145.000000   8638.000000  60772.000000  21810.000000   7726.000000   \n",
       "max    66156.000000  44104.000000  60772.000000  70170.000000  20318.000000   \n",
       "\n",
       "       form_field31  form_field32  form_field33  form_field34  form_field35  \\\n",
       "count   7190.000000  21744.000000  23505.000000  23853.000000  14134.000000   \n",
       "mean   10934.016134    946.711921     14.148066      0.229740      0.194071   \n",
       "std     6168.907825   1057.985881     15.511387      0.671496      0.558517   \n",
       "min        0.000000      0.000000      0.166600      0.000000      0.000000   \n",
       "25%     6297.000000    194.000000      2.500000      0.000000      0.000000   \n",
       "50%    10677.000000    600.000000      7.833400      0.000000      0.000000   \n",
       "75%    14145.000000   1336.000000     21.333400      0.000000      0.000000   \n",
       "max    45900.000000  11618.000000    124.000000     15.000000      8.000000   \n",
       "\n",
       "       form_field36  form_field37  form_field38  form_field39  form_field40  \\\n",
       "count  23097.000000  21744.000000  23853.000000  22171.000000   5172.000000   \n",
       "mean      12.777157      8.554544      8.506184      0.090749    147.623280   \n",
       "std       10.451113      9.469110      7.833898      0.408602     43.580328   \n",
       "min        2.000000      0.000000      0.000000      0.000000      0.075000   \n",
       "25%        6.000000      2.000000      4.000000      0.000000    135.531750   \n",
       "50%       10.000000      6.000000      6.000000      0.000000    150.000000   \n",
       "75%       16.000000     12.000000     12.000000      0.000000    167.078250   \n",
       "max      192.000000    120.000000    190.000000     15.000000    401.413500   \n",
       "\n",
       "       form_field41  form_field42  form_field43  form_field44  form_field45  \\\n",
       "count   7651.000000  23422.000000  23750.000000  21638.000000  10462.000000   \n",
       "mean     108.209648      0.369684      6.580480      0.566219      0.066526   \n",
       "std       36.426276      0.414077      6.363075      0.196060      0.278211   \n",
       "min        0.000000      0.000000      0.000000      0.066432      0.000000   \n",
       "25%       87.499500      0.000000      2.020000      0.413268      0.000000   \n",
       "50%      117.984000      0.220000      5.050000      0.592100      0.000000   \n",
       "75%      137.207250      0.628573     10.100000      0.756544      0.000000   \n",
       "max      211.693500      2.200000     91.910000      0.800000      5.000000   \n",
       "\n",
       "       form_field46  form_field48  form_field49  form_field50  \n",
       "count  17115.000000  1.507800e+04  23854.000000  1.920300e+04  \n",
       "mean       0.097926  3.015440e+05      1.064118  6.749843e+05  \n",
       "std        0.370392  1.868574e+06      1.816837  6.561031e+06  \n",
       "min        0.000000  0.000000e+00      0.000000  0.000000e+00  \n",
       "25%        0.000000  7.272364e+01      0.000000  4.500510e-02  \n",
       "50%        0.000000  3.131754e+02      0.000000  1.680000e-01  \n",
       "75%        0.000000  1.195997e+03      1.254155  5.007093e-01  \n",
       "max       19.000000  1.213991e+08     24.000000  2.524591e+08  "
      ]
     },
     "execution_count": 9,
     "metadata": {},
     "output_type": "execute_result"
    }
   ],
   "source": [
    "train_le.describe()\n",
    "test_le.describe()"
   ]
  },
  {
   "cell_type": "markdown",
   "metadata": {},
   "source": [
    "### Checking for missing values"
   ]
  },
  {
   "cell_type": "code",
   "execution_count": 11,
   "metadata": {},
   "outputs": [
    {
     "data": {
      "text/plain": [
       "Text(0.005, -0.25, '0%')"
      ]
     },
     "execution_count": 11,
     "metadata": {},
     "output_type": "execute_result"
    },
    {
     "data": {
      "text/plain": [
       "Text(0.005, 0.75, '0%')"
      ]
     },
     "execution_count": 11,
     "metadata": {},
     "output_type": "execute_result"
    },
    {
     "data": {
      "text/plain": [
       "Text(0.005, 1.75, '0%')"
      ]
     },
     "execution_count": 11,
     "metadata": {},
     "output_type": "execute_result"
    },
    {
     "data": {
      "text/plain": [
       "Text(0.005071428571428571, 2.75, '0%')"
      ]
     },
     "execution_count": 11,
     "metadata": {},
     "output_type": "execute_result"
    },
    {
     "data": {
      "text/plain": [
       "Text(0.011339285714285715, 3.75, '1%')"
      ]
     },
     "execution_count": 11,
     "metadata": {},
     "output_type": "execute_result"
    },
    {
     "data": {
      "text/plain": [
       "Text(0.011339285714285715, 4.75, '1%')"
      ]
     },
     "execution_count": 11,
     "metadata": {},
     "output_type": "execute_result"
    },
    {
     "data": {
      "text/plain": [
       "Text(0.011339285714285715, 5.75, '1%')"
      ]
     },
     "execution_count": 11,
     "metadata": {},
     "output_type": "execute_result"
    },
    {
     "data": {
      "text/plain": [
       "Text(0.011339285714285715, 6.75, '1%')"
      ]
     },
     "execution_count": 11,
     "metadata": {},
     "output_type": "execute_result"
    },
    {
     "data": {
      "text/plain": [
       "Text(0.011339285714285715, 7.75, '1%')"
      ]
     },
     "execution_count": 11,
     "metadata": {},
     "output_type": "execute_result"
    },
    {
     "data": {
      "text/plain": [
       "Text(0.011339285714285715, 8.75, '1%')"
      ]
     },
     "execution_count": 11,
     "metadata": {},
     "output_type": "execute_result"
    },
    {
     "data": {
      "text/plain": [
       "Text(0.011339285714285715, 9.75, '1%')"
      ]
     },
     "execution_count": 11,
     "metadata": {},
     "output_type": "execute_result"
    },
    {
     "data": {
      "text/plain": [
       "Text(0.011339285714285715, 10.75, '1%')"
      ]
     },
     "execution_count": 11,
     "metadata": {},
     "output_type": "execute_result"
    },
    {
     "data": {
      "text/plain": [
       "Text(0.011339285714285715, 11.75, '1%')"
      ]
     },
     "execution_count": 11,
     "metadata": {},
     "output_type": "execute_result"
    },
    {
     "data": {
      "text/plain": [
       "Text(0.011339285714285715, 12.75, '1%')"
      ]
     },
     "execution_count": 11,
     "metadata": {},
     "output_type": "execute_result"
    },
    {
     "data": {
      "text/plain": [
       "Text(0.015142857142857142, 13.75, '1%')"
      ]
     },
     "execution_count": 11,
     "metadata": {},
     "output_type": "execute_result"
    },
    {
     "data": {
      "text/plain": [
       "Text(0.02742857142857143, 14.75, '2%')"
      ]
     },
     "execution_count": 11,
     "metadata": {},
     "output_type": "execute_result"
    },
    {
     "data": {
      "text/plain": [
       "Text(0.028625, 15.75, '2%')"
      ]
     },
     "execution_count": 11,
     "metadata": {},
     "output_type": "execute_result"
    },
    {
     "data": {
      "text/plain": [
       "Text(0.040624999999999994, 16.75, '4%')"
      ]
     },
     "execution_count": 11,
     "metadata": {},
     "output_type": "execute_result"
    },
    {
     "data": {
      "text/plain": [
       "Text(0.05016071428571428, 17.75, '5%')"
      ]
     },
     "execution_count": 11,
     "metadata": {},
     "output_type": "execute_result"
    },
    {
     "data": {
      "text/plain": [
       "Text(0.07364285714285715, 18.75, '7%')"
      ]
     },
     "execution_count": 11,
     "metadata": {},
     "output_type": "execute_result"
    },
    {
     "data": {
      "text/plain": [
       "Text(0.08019642857142857, 19.75, '8%')"
      ]
     },
     "execution_count": 11,
     "metadata": {},
     "output_type": "execute_result"
    },
    {
     "data": {
      "text/plain": [
       "Text(0.09719642857142857, 20.75, '9%')"
      ]
     },
     "execution_count": 11,
     "metadata": {},
     "output_type": "execute_result"
    },
    {
     "data": {
      "text/plain": [
       "Text(0.101125, 21.75, '10%')"
      ]
     },
     "execution_count": 11,
     "metadata": {},
     "output_type": "execute_result"
    },
    {
     "data": {
      "text/plain": [
       "Text(0.10232142857142858, 22.75, '10%')"
      ]
     },
     "execution_count": 11,
     "metadata": {},
     "output_type": "execute_result"
    },
    {
     "data": {
      "text/plain": [
       "Text(0.10232142857142858, 23.75, '10%')"
      ]
     },
     "execution_count": 11,
     "metadata": {},
     "output_type": "execute_result"
    },
    {
     "data": {
      "text/plain": [
       "Text(0.10232142857142858, 24.75, '10%')"
      ]
     },
     "execution_count": 11,
     "metadata": {},
     "output_type": "execute_result"
    },
    {
     "data": {
      "text/plain": [
       "Text(0.11016071428571429, 25.75, '11%')"
      ]
     },
     "execution_count": 11,
     "metadata": {},
     "output_type": "execute_result"
    },
    {
     "data": {
      "text/plain": [
       "Text(0.13782142857142857, 26.75, '13%')"
      ]
     },
     "execution_count": 11,
     "metadata": {},
     "output_type": "execute_result"
    },
    {
     "data": {
      "text/plain": [
       "Text(0.148, 27.75, '14%')"
      ]
     },
     "execution_count": 11,
     "metadata": {},
     "output_type": "execute_result"
    },
    {
     "data": {
      "text/plain": [
       "Text(0.17105357142857144, 28.75, '17%')"
      ]
     },
     "execution_count": 11,
     "metadata": {},
     "output_type": "execute_result"
    },
    {
     "data": {
      "text/plain": [
       "Text(0.18169642857142856, 29.75, '18%')"
      ]
     },
     "execution_count": 11,
     "metadata": {},
     "output_type": "execute_result"
    },
    {
     "data": {
      "text/plain": [
       "Text(0.19075, 30.75, '19%')"
      ]
     },
     "execution_count": 11,
     "metadata": {},
     "output_type": "execute_result"
    },
    {
     "data": {
      "text/plain": [
       "Text(0.20242857142857143, 31.75, '20%')"
      ]
     },
     "execution_count": 11,
     "metadata": {},
     "output_type": "execute_result"
    },
    {
     "data": {
      "text/plain": [
       "Text(0.204125, 32.75, '20%')"
      ]
     },
     "execution_count": 11,
     "metadata": {},
     "output_type": "execute_result"
    },
    {
     "data": {
      "text/plain": [
       "Text(0.2377857142857143, 33.75, '23%')"
      ]
     },
     "execution_count": 11,
     "metadata": {},
     "output_type": "execute_result"
    },
    {
     "data": {
      "text/plain": [
       "Text(0.24244642857142856, 34.75, '24%')"
      ]
     },
     "execution_count": 11,
     "metadata": {},
     "output_type": "execute_result"
    },
    {
     "data": {
      "text/plain": [
       "Text(0.24357142857142858, 35.75, '24%')"
      ]
     },
     "execution_count": 11,
     "metadata": {},
     "output_type": "execute_result"
    },
    {
     "data": {
      "text/plain": [
       "Text(0.24357142857142858, 36.75, '24%')"
      ]
     },
     "execution_count": 11,
     "metadata": {},
     "output_type": "execute_result"
    },
    {
     "data": {
      "text/plain": [
       "Text(0.28810714285714284, 37.75, '28%')"
      ]
     },
     "execution_count": 11,
     "metadata": {},
     "output_type": "execute_result"
    },
    {
     "data": {
      "text/plain": [
       "Text(0.289, 38.75, '28%')"
      ]
     },
     "execution_count": 11,
     "metadata": {},
     "output_type": "execute_result"
    },
    {
     "data": {
      "text/plain": [
       "Text(0.3692857142857143, 39.75, '36%')"
      ]
     },
     "execution_count": 11,
     "metadata": {},
     "output_type": "execute_result"
    },
    {
     "data": {
      "text/plain": [
       "Text(0.3780178571428571, 40.75, '37%')"
      ]
     },
     "execution_count": 11,
     "metadata": {},
     "output_type": "execute_result"
    },
    {
     "data": {
      "text/plain": [
       "Text(0.40633928571428574, 41.75, '40%')"
      ]
     },
     "execution_count": 11,
     "metadata": {},
     "output_type": "execute_result"
    },
    {
     "data": {
      "text/plain": [
       "Text(0.41835714285714287, 42.75, '41%')"
      ]
     },
     "execution_count": 11,
     "metadata": {},
     "output_type": "execute_result"
    },
    {
     "data": {
      "text/plain": [
       "Text(0.46051785714285715, 43.75, '46%')"
      ]
     },
     "execution_count": 11,
     "metadata": {},
     "output_type": "execute_result"
    },
    {
     "data": {
      "text/plain": [
       "Text(0.5071964285714285, 44.75, '50%')"
      ]
     },
     "execution_count": 11,
     "metadata": {},
     "output_type": "execute_result"
    },
    {
     "data": {
      "text/plain": [
       "Text(0.5642321428571428, 45.75, '56%')"
      ]
     },
     "execution_count": 11,
     "metadata": {},
     "output_type": "execute_result"
    },
    {
     "data": {
      "text/plain": [
       "Text(0.5660892857142857, 46.75, '56%')"
      ]
     },
     "execution_count": 11,
     "metadata": {},
     "output_type": "execute_result"
    },
    {
     "data": {
      "text/plain": [
       "Text(0.6876607142857143, 47.75, '68%')"
      ]
     },
     "execution_count": 11,
     "metadata": {},
     "output_type": "execute_result"
    },
    {
     "data": {
      "text/plain": [
       "Text(0.7087142857142857, 48.75, '70%')"
      ]
     },
     "execution_count": 11,
     "metadata": {},
     "output_type": "execute_result"
    },
    {
     "data": {
      "text/plain": [
       "Text(0.785875, 49.75, '78%')"
      ]
     },
     "execution_count": 11,
     "metadata": {},
     "output_type": "execute_result"
    },
    {
     "data": {
      "image/png": "[encoded data removed]",
      "text/plain": [
       "<Figure size 792x792 with 1 Axes>"
      ]
     },
     "metadata": {},
     "output_type": "display_data"
    }
   ],
   "source": [
    "ax = train_le.isna().sum().transform(lambda x:x/train_le.shape[0]).sort_values().plot.barh(figsize=(11,11), \n",
    "                                                                                           title='% missing values (Train)',\n",
    "                                                                                           color='indigo', alpha=0.5)\n",
    "for i in ax.patches:\n",
    "    ax.text(i.get_width()+0.005, i.get_y(), \n",
    "            str(int(round(i.get_width(),2)*100))+'%',  \n",
    "            fontsize=10, color='b', alpha=0.7);"
   ]
  },
  {
   "cell_type": "markdown",
   "metadata": {},
   "source": [
    "clearly from the Bar chart, there's a lot of missing values in the train data"
   ]
  },
  {
   "cell_type": "code",
   "execution_count": 12,
   "metadata": {},
   "outputs": [
    {
     "data": {
      "text/plain": [
       "Text(0.005, -0.25, '0%')"
      ]
     },
     "execution_count": 12,
     "metadata": {},
     "output_type": "execute_result"
    },
    {
     "data": {
      "text/plain": [
       "Text(0.005, 0.75, '0%')"
      ]
     },
     "execution_count": 12,
     "metadata": {},
     "output_type": "execute_result"
    },
    {
     "data": {
      "text/plain": [
       "Text(0.005, 1.75, '0%')"
      ]
     },
     "execution_count": 12,
     "metadata": {},
     "output_type": "execute_result"
    },
    {
     "data": {
      "text/plain": [
       "Text(0.011083333333333334, 2.75, '1%')"
      ]
     },
     "execution_count": 12,
     "metadata": {},
     "output_type": "execute_result"
    },
    {
     "data": {
      "text/plain": [
       "Text(0.011083333333333334, 3.75, '1%')"
      ]
     },
     "execution_count": 12,
     "metadata": {},
     "output_type": "execute_result"
    },
    {
     "data": {
      "text/plain": [
       "Text(0.011083333333333334, 4.75, '1%')"
      ]
     },
     "execution_count": 12,
     "metadata": {},
     "output_type": "execute_result"
    },
    {
     "data": {
      "text/plain": [
       "Text(0.011083333333333334, 5.75, '1%')"
      ]
     },
     "execution_count": 12,
     "metadata": {},
     "output_type": "execute_result"
    },
    {
     "data": {
      "text/plain": [
       "Text(0.011125, 6.75, '1%')"
      ]
     },
     "execution_count": 12,
     "metadata": {},
     "output_type": "execute_result"
    },
    {
     "data": {
      "text/plain": [
       "Text(0.011125, 7.75, '1%')"
      ]
     },
     "execution_count": 12,
     "metadata": {},
     "output_type": "execute_result"
    },
    {
     "data": {
      "text/plain": [
       "Text(0.011125, 8.75, '1%')"
      ]
     },
     "execution_count": 12,
     "metadata": {},
     "output_type": "execute_result"
    },
    {
     "data": {
      "text/plain": [
       "Text(0.011125, 9.75, '1%')"
      ]
     },
     "execution_count": 12,
     "metadata": {},
     "output_type": "execute_result"
    },
    {
     "data": {
      "text/plain": [
       "Text(0.011125, 10.75, '1%')"
      ]
     },
     "execution_count": 12,
     "metadata": {},
     "output_type": "execute_result"
    },
    {
     "data": {
      "text/plain": [
       "Text(0.011125, 11.75, '1%')"
      ]
     },
     "execution_count": 12,
     "metadata": {},
     "output_type": "execute_result"
    },
    {
     "data": {
      "text/plain": [
       "Text(0.015416666666666665, 12.75, '1%')"
      ]
     },
     "execution_count": 12,
     "metadata": {},
     "output_type": "execute_result"
    },
    {
     "data": {
      "text/plain": [
       "Text(0.025625000000000002, 13.75, '2%')"
      ]
     },
     "execution_count": 12,
     "metadata": {},
     "output_type": "execute_result"
    },
    {
     "data": {
      "text/plain": [
       "Text(0.029083333333333336, 14.75, '2%')"
      ]
     },
     "execution_count": 12,
     "metadata": {},
     "output_type": "execute_result"
    },
    {
     "data": {
      "text/plain": [
       "Text(0.042624999999999996, 15.75, '4%')"
      ]
     },
     "execution_count": 12,
     "metadata": {},
     "output_type": "execute_result"
    },
    {
     "data": {
      "text/plain": [
       "Text(0.05125, 16.75, '5%')"
      ]
     },
     "execution_count": 12,
     "metadata": {},
     "output_type": "execute_result"
    },
    {
     "data": {
      "text/plain": [
       "Text(0.07620833333333334, 17.75, '7%')"
      ]
     },
     "execution_count": 12,
     "metadata": {},
     "output_type": "execute_result"
    },
    {
     "data": {
      "text/plain": [
       "Text(0.08120833333333334, 18.75, '8%')"
      ]
     },
     "execution_count": 12,
     "metadata": {},
     "output_type": "execute_result"
    },
    {
     "data": {
      "text/plain": [
       "Text(0.09795833333333334, 19.75, '9%')"
      ]
     },
     "execution_count": 12,
     "metadata": {},
     "output_type": "execute_result"
    },
    {
     "data": {
      "text/plain": [
       "Text(0.099, 20.75, '9%')"
      ]
     },
     "execution_count": 12,
     "metadata": {},
     "output_type": "execute_result"
    },
    {
     "data": {
      "text/plain": [
       "Text(0.099, 21.75, '9%')"
      ]
     },
     "execution_count": 12,
     "metadata": {},
     "output_type": "execute_result"
    },
    {
     "data": {
      "text/plain": [
       "Text(0.099, 22.75, '9%')"
      ]
     },
     "execution_count": 12,
     "metadata": {},
     "output_type": "execute_result"
    },
    {
     "data": {
      "text/plain": [
       "Text(0.10341666666666667, 23.75, '10%')"
      ]
     },
     "execution_count": 12,
     "metadata": {},
     "output_type": "execute_result"
    },
    {
     "data": {
      "text/plain": [
       "Text(0.107625, 24.75, '10%')"
      ]
     },
     "execution_count": 12,
     "metadata": {},
     "output_type": "execute_result"
    },
    {
     "data": {
      "text/plain": [
       "Text(0.13716666666666666, 25.75, '13%')"
      ]
     },
     "execution_count": 12,
     "metadata": {},
     "output_type": "execute_result"
    },
    {
     "data": {
      "text/plain": [
       "Text(0.14666666666666667, 26.75, '14%')"
      ]
     },
     "execution_count": 12,
     "metadata": {},
     "output_type": "execute_result"
    },
    {
     "data": {
      "text/plain": [
       "Text(0.16791666666666666, 27.75, '16%')"
      ]
     },
     "execution_count": 12,
     "metadata": {},
     "output_type": "execute_result"
    },
    {
     "data": {
      "text/plain": [
       "Text(0.17929166666666668, 28.75, '17%')"
      ]
     },
     "execution_count": 12,
     "metadata": {},
     "output_type": "execute_result"
    },
    {
     "data": {
      "text/plain": [
       "Text(0.18704166666666666, 29.75, '18%')"
      ]
     },
     "execution_count": 12,
     "metadata": {},
     "output_type": "execute_result"
    },
    {
     "data": {
      "text/plain": [
       "Text(0.200625, 30.75, '20%')"
      ]
     },
     "execution_count": 12,
     "metadata": {},
     "output_type": "execute_result"
    },
    {
     "data": {
      "text/plain": [
       "Text(0.204875, 31.75, '20%')"
      ]
     },
     "execution_count": 12,
     "metadata": {},
     "output_type": "execute_result"
    },
    {
     "data": {
      "text/plain": [
       "Text(0.23308333333333334, 32.75, '23%')"
      ]
     },
     "execution_count": 12,
     "metadata": {},
     "output_type": "execute_result"
    },
    {
     "data": {
      "text/plain": [
       "Text(0.23850000000000002, 33.75, '23%')"
      ]
     },
     "execution_count": 12,
     "metadata": {},
     "output_type": "execute_result"
    },
    {
     "data": {
      "text/plain": [
       "Text(0.23850000000000002, 34.75, '23%')"
      ]
     },
     "execution_count": 12,
     "metadata": {},
     "output_type": "execute_result"
    },
    {
     "data": {
      "text/plain": [
       "Text(0.23854166666666668, 35.75, '23%')"
      ]
     },
     "execution_count": 12,
     "metadata": {},
     "output_type": "execute_result"
    },
    {
     "data": {
      "text/plain": [
       "Text(0.2844583333333333, 36.75, '28%')"
      ]
     },
     "execution_count": 12,
     "metadata": {},
     "output_type": "execute_result"
    },
    {
     "data": {
      "text/plain": [
       "Text(0.291875, 37.75, '28%')"
      ]
     },
     "execution_count": 12,
     "metadata": {},
     "output_type": "execute_result"
    },
    {
     "data": {
      "text/plain": [
       "Text(0.3685, 38.75, '36%')"
      ]
     },
     "execution_count": 12,
     "metadata": {},
     "output_type": "execute_result"
    },
    {
     "data": {
      "text/plain": [
       "Text(0.37675000000000003, 39.75, '37%')"
      ]
     },
     "execution_count": 12,
     "metadata": {},
     "output_type": "execute_result"
    },
    {
     "data": {
      "text/plain": [
       "Text(0.4046666666666667, 40.75, '40%')"
      ]
     },
     "execution_count": 12,
     "metadata": {},
     "output_type": "execute_result"
    },
    {
     "data": {
      "text/plain": [
       "Text(0.41608333333333336, 41.75, '41%')"
      ]
     },
     "execution_count": 12,
     "metadata": {},
     "output_type": "execute_result"
    },
    {
     "data": {
      "text/plain": [
       "Text(0.4595, 42.75, '45%')"
      ]
     },
     "execution_count": 12,
     "metadata": {},
     "output_type": "execute_result"
    },
    {
     "data": {
      "text/plain": [
       "Text(0.5102083333333334, 43.75, '51%')"
      ]
     },
     "execution_count": 12,
     "metadata": {},
     "output_type": "execute_result"
    },
    {
     "data": {
      "text/plain": [
       "Text(0.56325, 44.75, '56%')"
      ]
     },
     "execution_count": 12,
     "metadata": {},
     "output_type": "execute_result"
    },
    {
     "data": {
      "text/plain": [
       "Text(0.5690833333333334, 45.75, '56%')"
      ]
     },
     "execution_count": 12,
     "metadata": {},
     "output_type": "execute_result"
    },
    {
     "data": {
      "text/plain": [
       "Text(0.6862083333333333, 46.75, '68%')"
      ]
     },
     "execution_count": 12,
     "metadata": {},
     "output_type": "execute_result"
    },
    {
     "data": {
      "text/plain": [
       "Text(0.7054166666666667, 47.75, '70%')"
      ]
     },
     "execution_count": 12,
     "metadata": {},
     "output_type": "execute_result"
    },
    {
     "data": {
      "text/plain": [
       "Text(0.7895, 48.75, '78%')"
      ]
     },
     "execution_count": 12,
     "metadata": {},
     "output_type": "execute_result"
    },
    {
     "data": {
      "image/png": "[encoded data removed]",
      "text/plain": [
       "<Figure size 792x792 with 1 Axes>"
      ]
     },
     "metadata": {},
     "output_type": "display_data"
    }
   ],
   "source": [
    "ax1 = test_le.isna().sum().transform(lambda x:x/test_le.shape[0]).sort_values().plot.barh(\n",
    "    figsize=(11,11), title='Percentage missing values (Test)', color='coral', alpha=0.6)\n",
    "for i in ax1.patches:\n",
    "    ax1.text(i.get_width()+0.005, i.get_y(), \n",
    "             str(int(round(i.get_width(),2)*100))+'%', fontsize=10, color='blue');"
   ]
  },
  {
   "cell_type": "markdown",
   "metadata": {},
   "source": [
    "Clearly we can see that both the train and test data have a lot of missing values.\n",
    "\n",
    "Form_field40 has the most, with almost 80% missing, followed by form_field31 and then form_field41.\n"
   ]
  },
  {
   "cell_type": "markdown",
   "metadata": {},
   "source": [
    "### Target Distribution"
   ]
  },
  {
   "cell_type": "code",
   "execution_count": 14,
   "metadata": {},
   "outputs": [
    {
     "data": {
      "text/plain": [
       "([<matplotlib.axis.XTick at 0x7f7f680a4650>,\n",
       "  <matplotlib.axis.XTick at 0x7f7f680a4610>],\n",
       " [Text(0, 0, 'No'), Text(0, 0, 'Yes')])"
      ]
     },
     "execution_count": 14,
     "metadata": {},
     "output_type": "execute_result"
    },
    {
     "data": {
      "text/plain": [
       "Text(0.5, 1.0, 'Target Distribution')"
      ]
     },
     "execution_count": 14,
     "metadata": {},
     "output_type": "execute_result"
    },
    {
     "data": {
      "text/plain": [
       "Text(-0.12, 42288, '75.51%')"
      ]
     },
     "execution_count": 14,
     "metadata": {},
     "output_type": "execute_result"
    },
    {
     "data": {
      "text/plain": [
       "Text(0.88, 13718, '24.49%')"
      ]
     },
     "execution_count": 14,
     "metadata": {},
     "output_type": "execute_result"
    },
    {
     "data": {
      "image/png": "[encoded data removed]",
      "text/plain": [
       "<Figure size 432x288 with 1 Axes>"
      ]
     },
     "metadata": {},
     "output_type": "display_data"
    }
   ],
   "source": [
    "ax = sns.countplot('default_status', data=train_le,color='coral')\n",
    "plt.xticks(range(2), ['No', 'Yes'], fontsize=13)\n",
    "plt.title('Target Distribution')\n",
    "\n",
    "for i in ax.patches:\n",
    "    ax.text(i.get_x()+ 0.28, i.get_height()+ 3, \n",
    "            str(round(i.get_height()/train_le.shape[0] * 100,2))+'%', \n",
    "            fontsize=13);"
   ]
  },
  {
   "cell_type": "markdown",
   "metadata": {},
   "source": [
    "Clearly as we can see, the data is imbalanced.About 74% of the data is for No, while 24% for Yes"
   ]
  },
  {
   "cell_type": "markdown",
   "metadata": {},
   "source": [
    "### Filling Missing Values with -999"
   ]
  },
  {
   "cell_type": "code",
   "execution_count": 15,
   "metadata": {},
   "outputs": [],
   "source": [
    "train_le.fillna(-999, inplace=True)\n",
    "test_le.fillna(-999, inplace=True)"
   ]
  },
  {
   "cell_type": "code",
   "execution_count": null,
   "metadata": {},
   "outputs": [],
   "source": []
  },
  {
   "cell_type": "code",
   "execution_count": null,
   "metadata": {},
   "outputs": [],
   "source": []
  }
 ],
 "metadata": {
  "kernelspec": {
   "display_name": "Python 3",
   "language": "python",
   "name": "python3"
  },
  "language_info": {
   "codemirror_mode": {
    "name": "ipython",
    "version": 3
   },
   "file_extension": ".py",
   "mimetype": "text/x-python",
   "name": "python",
   "nbconvert_exporter": "python",
   "pygments_lexer": "ipython3",
   "version": "3.7.7"
  }
 },
 "nbformat": 4,
 "nbformat_minor": 2
}
